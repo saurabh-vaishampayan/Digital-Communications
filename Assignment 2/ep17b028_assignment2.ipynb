{
 "cells": [
  {
   "cell_type": "markdown",
   "metadata": {},
   "source": [
    "# Introduction"
   ]
  },
  {
   "cell_type": "markdown",
   "metadata": {},
   "source": [
    "In this assignment we will implement Viterbi algorithm, Linear Equaliser, Decision Feedback Equaliser for sequence estimation in the presence of noise. The modulation scheme used is 4-PAM. As a bonus question, we will also study inter symbol interference characteristics of DFE and LE.\n",
    "\n",
    "Each section is a question. The summaries of results and plots for all sections obtained are presented at the end. The observations also are presented at the end."
   ]
  },
  {
   "cell_type": "markdown",
   "metadata": {},
   "source": [
    "# Define functions common to all subparts"
   ]
  },
  {
   "cell_type": "markdown",
   "metadata": {},
   "source": [
    "In this section, we define functions that we will be using which are common to all sections: Import libraries, define channel coefficients, random sequence generator, decoding signal alphabets from received analog value."
   ]
  },
  {
   "cell_type": "code",
   "execution_count": 1,
   "metadata": {},
   "outputs": [],
   "source": [
    "import numpy as np\n",
    "import matplotlib.pyplot as plt\n",
    "from scipy.linalg import toeplitz, solve_toeplitz"
   ]
  },
  {
   "cell_type": "code",
   "execution_count": 2,
   "metadata": {},
   "outputs": [],
   "source": [
    "f_n = (1/np.sqrt(2))*np.array([0.8,-1,0.6])"
   ]
  },
  {
   "cell_type": "code",
   "execution_count": 3,
   "metadata": {},
   "outputs": [],
   "source": [
    "def random_4pam_sequence(n_iter):\n",
    "    rand1 = np.random.rand(n_iter)\n",
    "    I_n = -3*(np.less(rand1,0.25*np.ones(n_iter)))+\\\n",
    "    -1*(np.less(rand1,0.5*np.ones(n_iter))&np.greater(rand1,0.25*np.ones(n_iter)))+\\\n",
    "    1*(np.less(rand1,0.75*np.ones(n_iter))&np.greater(rand1,0.5*np.ones(n_iter)))+\\\n",
    "    3*(np.greater(rand1,0.75*np.ones(n_iter)))\n",
    "    I_n = I_n/np.sqrt(5)\n",
    "    return I_n    "
   ]
  },
  {
   "cell_type": "code",
   "execution_count": 4,
   "metadata": {},
   "outputs": [],
   "source": [
    "def decode_4pam(y_n):\n",
    "    n_iter = len(y_n)\n",
    "    I_hat_n = np.round((np.sqrt(5)/2)*y_n+1.5*np.ones(n_iter))\n",
    "    I_hat_n = (2/np.sqrt(5))*(np.clip(I_hat_n,0,3)-1.5*np.ones(n_iter))\n",
    "    return I_hat_n"
   ]
  },
  {
   "cell_type": "markdown",
   "metadata": {},
   "source": [
    "# Estimation using Viterbi algorithm"
   ]
  },
  {
   "cell_type": "markdown",
   "metadata": {},
   "source": [
    "We define functions to calculate the transition metric for a given state(2d array consisting of possible sequences), initialisation and update for Viterbi, and running the Viterbi algorithm."
   ]
  },
  {
   "cell_type": "code",
   "execution_count": 5,
   "metadata": {},
   "outputs": [],
   "source": [
    "def transition_metric(state_array,time_index,r_n,f_n):\n",
    "    r_estimate = np.sum(f_n*state_array,axis=1)\n",
    "    t_metric = np.abs((r_n[time_index]-r_estimate)**2)\n",
    "    return t_metric"
   ]
  },
  {
   "cell_type": "code",
   "execution_count": 6,
   "metadata": {},
   "outputs": [],
   "source": [
    "def sequence_to_index_4pam(seq):\n",
    "    n = len(seq[0])\n",
    "    s = (np.sqrt(5)*seq+3*np.ones(np.shape(seq)))/2\n",
    "    pol = 4**(np.arange(n))\n",
    "    index_4pam = np.sum(s*pol,axis=1)\n",
    "    return index_4pam"
   ]
  },
  {
   "cell_type": "code",
   "execution_count": 7,
   "metadata": {},
   "outputs": [],
   "source": [
    "def init_step_viterbi_4pam(f_n,delta):\n",
    "    L = len(f_n)\n",
    "    nrows = 4**(L-1)\n",
    "    ncols = int(delta)\n",
    "    cmetric_init = np.zeros(nrows)\n",
    "    \n",
    "    state_init = np.zeros((nrows,ncols))\n",
    "    \n",
    "    for j in range(L-1):\n",
    "        chunk_size = int(4**(L-2-j))\n",
    "        block_size = 4*chunk_size\n",
    "        temp = np.arange(0,nrows,block_size)\n",
    "        for i in range(0,nrows,block_size):\n",
    "            state_init[i:i+chunk_size,j] = -3*np.ones(chunk_size)\n",
    "            state_init[i+chunk_size:i+2*chunk_size,j] = -1*np.ones(chunk_size)\n",
    "            state_init[i+2*chunk_size:i+3*chunk_size,j] = 1*np.ones(chunk_size)\n",
    "            state_init[i+3*chunk_size:i+4*chunk_size,j] = 3*np.ones(chunk_size)       \n",
    "    \n",
    "    state_init*=1/np.sqrt(5)\n",
    "    return state_init, cmetric_init"
   ]
  },
  {
   "cell_type": "code",
   "execution_count": 8,
   "metadata": {},
   "outputs": [],
   "source": [
    "def update_step_viterbi_4pam(curr_state,cmetric,time_index,I_hat_n,f_n,r_n):\n",
    "    L = len(f_n)\n",
    "    nrows = len(curr_state)\n",
    "    ncols = len(curr_state[0])\n",
    "    counts_delta = np.zeros(4)\n",
    "    count_new_array = np.zeros(nrows)\n",
    "    new_state = np.zeros((nrows,ncols))\n",
    "    cmetric_new = np.zeros(nrows)\n",
    "    cmetric_temp = np.zeros(nrows)\n",
    "    \n",
    "    new_col = np.zeros(nrows)\n",
    "    \n",
    "    seq = curr_state[:,0:L-1]\n",
    "    \n",
    "    for j in range(4):\n",
    "        j_val = (2*j-3)/np.sqrt(5)\n",
    "        counts_delta[j] = len(np.where(curr_state[:,-1]==j_val)[0])\n",
    "        \n",
    "        seq_new = np.c_[j_val*np.ones(nrows),seq]\n",
    "        \n",
    "        tm = transition_metric(seq_new,time_index,r_n,f_n)\n",
    "        cmetric_temp = cmetric+tm\n",
    "        \n",
    "        idx_old = sequence_to_index_4pam(seq[:,0:-1])\n",
    "        \n",
    "        n_unique_idx = 4**(L-2)\n",
    "        \n",
    "        for i in range(n_unique_idx):\n",
    "            ii = np.where(idx_old==i)[0]\n",
    "            i_min = np.argmin(cmetric_temp[ii])\n",
    "            row_to_add = ii[i_min]\n",
    "            row_new_idx = j*n_unique_idx+i\n",
    "            \n",
    "            cmetric_new[row_new_idx] = cmetric_temp[row_to_add]\n",
    "            new_state[row_new_idx,1:] = curr_state[row_to_add,0:-1]\n",
    "            new_state[row_new_idx,0] = j_val\n",
    "    \n",
    "    j_s = np.argmax(counts_delta)\n",
    "    I_hat_n.append((2*j_s-3)/np.sqrt(5))\n",
    "    \n",
    "    return new_state, cmetric_new"
   ]
  },
  {
   "cell_type": "code",
   "execution_count": 9,
   "metadata": {},
   "outputs": [],
   "source": [
    "def run_viterbi_4pam(f_n,delta,r_n,terminating_sequence,n_iter):\n",
    "    L = len(f_n)\n",
    "    curr_state, cmetric = init_step_viterbi_4pam(f_n,delta)\n",
    "    I_hat_n = []\n",
    "    time_index = L-1 \n",
    "    \n",
    "    for i in range(n_iter):\n",
    "        new_state, cmetric_new = update_step_viterbi_4pam(curr_state,cmetric,time_index,I_hat_n,f_n,r_n)\n",
    "        curr_state = new_state.copy()\n",
    "        cmetric = cmetric_new.copy()\n",
    "        time_index+=1\n",
    "        \n",
    "    nrows = len(curr_state)\n",
    "    \n",
    "    I_hat_n = np.array(I_hat_n)\n",
    "    I_hat_n = I_hat_n[delta+1-L:]\n",
    "    \n",
    "    \n",
    "    for i in range(nrows):\n",
    "        if(np.sum(np.abs(curr_state[i,0:L-1]-terminating_sequence))==0):\n",
    "            I_hat_n = np.concatenate((I_hat_n,np.flip(curr_state[i])))\n",
    "    \n",
    "    return I_hat_n"
   ]
  },
  {
   "cell_type": "markdown",
   "metadata": {},
   "source": [
    "Calculate empirical symbol error for given random sequence with noise"
   ]
  },
  {
   "cell_type": "code",
   "execution_count": 10,
   "metadata": {},
   "outputs": [],
   "source": [
    "def sym_err_viterbi(delta,f_n,I_n,terminating_sequence,sigma_v):\n",
    "    n_iter = len(I_n)\n",
    "    I_n = np.concatenate((I_n,np.flip(terminating_sequence)))\n",
    "    r_n = np.convolve(f_n,I_n)+sigma_v*np.random.randn(len(I_n)+len(f_n)-1)\n",
    "    \n",
    "    I_hat_n = run_viterbi_4pam(f_n,delta,r_n,terminating_sequence,n_iter)\n",
    "    \n",
    "    ser = np.mean(np.not_equal(I_hat_n,I_n))\n",
    "    \n",
    "    return ser"
   ]
  },
  {
   "cell_type": "code",
   "execution_count": 11,
   "metadata": {
    "scrolled": false
   },
   "outputs": [],
   "source": [
    "n_iter = 10**5\n",
    "delta_array = np.array([3,6,15,30])\n",
    "snr = np.arange(0,18,2)\n",
    "stdev = 10**(-0.5*(snr/10))\n",
    "I_n = random_4pam_sequence(n_iter)\n",
    "\n",
    "termin_seq = (1/np.sqrt(5))*np.array([3,3])\n",
    "\n",
    "ser_matrix_viterbi = np.zeros((len(delta_array),len(snr)))\n",
    "\n",
    "for i in range(len(delta_array)):\n",
    "    for j in range(len(snr)):\n",
    "        ser_matrix_viterbi[i,j] = sym_err_viterbi(delta_array[i],f_n,I_n,termin_seq,stdev[j])\n"
   ]
  },
  {
   "cell_type": "code",
   "execution_count": 12,
   "metadata": {},
   "outputs": [
    {
     "data": {
      "image/png": "[encoded data removed]",
      "text/plain": [
       "<Figure size 432x288 with 1 Axes>"
      ]
     },
     "metadata": {
      "needs_background": "light"
     },
     "output_type": "display_data"
    }
   ],
   "source": [
    "for i in range(len(delta_array)):\n",
    "    plt.plot(snr,np.log10(ser_matrix_viterbi[i]),label=r'$\\delta = $'+str(delta_array[i]))\n",
    "\n",
    "plt.xlabel('SNR'+'\\n\\n Figure 1',size=10)\n",
    "plt.ylabel('log(SER)')\n",
    "plt.title('SER vs SNR for different decoding delays')\n",
    "plt.legend()\n",
    "plt.savefig('fig1.png')\n",
    "plt.show()"
   ]
  },
  {
   "cell_type": "markdown",
   "metadata": {},
   "source": [
    "# Estimation using Linear Equalisation"
   ]
  },
  {
   "cell_type": "markdown",
   "metadata": {},
   "source": [
    "In this section, we first define functions to calculate optimal equalisation coefficient vector, which is given by:\n",
    "\n",
    "$w_{opt} = R^{-1}p$\n",
    "\n",
    "$R = E[r r^T], r = [r[k], r[k-1], r[k-2].....r[k-N+1]$ where N is length of equaliser\n",
    "\n",
    "$p = E[I(k-\\Delta)r]$, where $\\Delta$ is decoding delay\n",
    "\n",
    "$J_{min} = \\sigma_I^2-w_{opt}^Tp$\n",
    "\n",
    "To find optimal values of filter length and decoding delay, we calculate cost function over a range of possible values, and select the arguments corresponding to the minimum. Resolution is 1e-6 and the assumed SNR for this calculation is 10dB"
   ]
  },
  {
   "cell_type": "code",
   "execution_count": 13,
   "metadata": {},
   "outputs": [],
   "source": [
    "def p_linear_eq(N,delta,f_n):\n",
    "    '''\n",
    "    N: Length of linear equaliser\n",
    "    delta: decoding delay\n",
    "    f_n: channel coefficients\n",
    "    '''\n",
    "    p = np.zeros(N)\n",
    "    len_channel = len(f_n)\n",
    "    for l in range(max(0,delta-len_channel+1),min(N,delta+1)):\n",
    "        p[l] = f_n[delta-l]    \n",
    "    return p"
   ]
  },
  {
   "cell_type": "code",
   "execution_count": 14,
   "metadata": {},
   "outputs": [],
   "source": [
    "def R_linear_eq(N,f_n,sigma_v):\n",
    "    '''\n",
    "    N: Length of linear equaliser\n",
    "    f_n: Channel coefficients\n",
    "    sigma_v: Stdev of noise(awgn)\n",
    "    Returns Toeplitz matrix\n",
    "    '''\n",
    "    row1 = np.zeros(N)\n",
    "    row1[0] = np.sum(f_n**2)\n",
    "    for i in range(1,N):\n",
    "        row1[i] = np.sum(f_n[0:-i]*f_n[i:])\n",
    "    R = toeplitz(row1)\n",
    "    R = R+(sigma_v**2)*np.eye(N)\n",
    "    return R    "
   ]
  },
  {
   "cell_type": "code",
   "execution_count": 15,
   "metadata": {},
   "outputs": [],
   "source": [
    "def w_opt_linear_eq(N,delta,f_n,sigma_v):\n",
    "    '''\n",
    "    n: Length of linear equaliser\n",
    "    delta: decoding delay\n",
    "    f_n: Channel coefficients\n",
    "    sigma_v: Noise stdev\n",
    "    '''\n",
    "    p = p_linear_eq(N,delta,f_n)\n",
    "    R = R_linear_eq(N,f_n,sigma_v)\n",
    "    row1 = R[0]\n",
    "    w_opt = solve_toeplitz(row1,p)\n",
    "    return w_opt    "
   ]
  },
  {
   "cell_type": "code",
   "execution_count": 16,
   "metadata": {},
   "outputs": [],
   "source": [
    "def Jmin_linear_eq(N,delta,f_n,sigma_v):\n",
    "    '''\n",
    "    n: Length of linear equaliser\n",
    "    delta: decoding delay\n",
    "    f_n: Channel coefficients\n",
    "    sigma_v: Noise stdev\n",
    "    '''\n",
    "    w_opt = w_opt_linear_eq(N,delta,f_n,sigma_v)\n",
    "    p = p = p_linear_eq(N,delta,f_n)\n",
    "    Jmin = 1-w_opt@p\n",
    "    return Jmin    "
   ]
  },
  {
   "cell_type": "code",
   "execution_count": 17,
   "metadata": {},
   "outputs": [],
   "source": [
    "def best_choice_linear_eq(N_max,delta_max,f_n,sigma_v):\n",
    "    '''\n",
    "    N_max: maximum val of N. We check Jmin for all N in 1 to N_max\n",
    "    N_max: maximum val of N. We check Jmin for all N in 1 to N_max\n",
    "    f_n: Channel coefficients\n",
    "    sigma_v: Stdev of noise\n",
    "    '''\n",
    "    J = []\n",
    "    N = np.arange(1,N_max+1)\n",
    "    delta = np.arange(1,delta_max+1)\n",
    "    \n",
    "    for i in range(len(N)):\n",
    "        for j in range(len(delta)):\n",
    "            Jmin = Jmin_linear_eq(N[i],delta[j],f_n,sigma_v)\n",
    "            J.append([N[i],delta[j],Jmin])\n",
    "    \n",
    "    J = np.array(J)\n",
    "    J[:,-1] = np.round(J[:,-1],decimals=6)\n",
    "    ii = np.argmin(J[:,-1])\n",
    "    N_opt = int(J[ii,0])\n",
    "    delta_opt = int(J[ii,1])\n",
    "    Jmin = J[ii,-1]\n",
    "    w_opt = w_opt_linear_eq(N_opt,delta_opt,f_n,sigma_v)\n",
    "    return w_opt, N_opt, delta_opt, Jmin    "
   ]
  },
  {
   "cell_type": "code",
   "execution_count": 18,
   "metadata": {},
   "outputs": [],
   "source": [
    "def le_symbol_err(I_n,f_n,w_opt,delta,n_iter,sigma_v):\n",
    "    r_n = np.convolve(I_n,f_n)\n",
    "    r_n+=sigma_v*np.random.randn(len(r_n))\n",
    "    \n",
    "    y_n = np.convolve(r_n,w_opt)\n",
    "    y_n = y_n[delta:n_iter+delta]\n",
    "    \n",
    "    I_hat_n = decode_4pam(y_n)\n",
    "    sym_err = np.mean(np.not_equal(I_hat_n,I_n))    \n",
    "    \n",
    "    return sym_err"
   ]
  },
  {
   "cell_type": "code",
   "execution_count": 19,
   "metadata": {},
   "outputs": [
    {
     "name": "stdout",
     "output_type": "stream",
     "text": [
      "=======================================\n",
      "Outputs for Q b1\n",
      "SNR=10dB\n",
      "N = 3, delta = 0\n",
      "\n",
      "\n",
      "w_opt is\n",
      "[0.95869858 0.80157854 0.30092483]\n",
      "Jmin is\n",
      "0.4576781847283682\n",
      "=======================================\n",
      "Outputs for Q b2\n",
      "SNR=10dB\n",
      "N = 10, delta = 0\n",
      "\n",
      "\n",
      "w_opt is\n",
      "[ 0.98162681  0.84173676  0.31296526 -0.08206659 -0.20034628 -0.13712618\n",
      " -0.03402374  0.02698237  0.03503563  0.01640834]\n",
      "Jmin is\n",
      "0.4447080202880155\n",
      "=======================================\n",
      "Outputs for Q b3\n",
      "SNR=10dB\n",
      "N = 10, delta = 5\n",
      "\n",
      "\n",
      "w_opt is\n",
      "[ 0.05175672  0.18258482  0.29532074  0.17546218 -0.36100637  0.58939739\n",
      "  0.64385394  0.30512781  0.01904098 -0.05445636]\n",
      "Jmin is\n",
      "0.33687413740034433\n"
     ]
    }
   ],
   "source": [
    "#SNR = 10dB. Therefore, sigma_v = np.sqrt(0.1)\n",
    "sigma_v = np.sqrt(0.1)\n",
    "\n",
    "# Question b1: N = 3, delta = 0\n",
    "N = 3\n",
    "delta = 0\n",
    "w_b1 = w_opt_linear_eq(N,delta,f_n,sigma_v)\n",
    "Jmin_b1 = Jmin_linear_eq(N,delta,f_n,sigma_v)\n",
    "\n",
    "print('=======================================')\n",
    "print('Outputs for Q b1')\n",
    "print('SNR=10dB')\n",
    "print('N = 3, delta = 0')\n",
    "print('\\n')\n",
    "print('w_opt is')\n",
    "print(w_b1)\n",
    "print('Jmin is')\n",
    "print(Jmin_b1)\n",
    "\n",
    "# Question b2, N = 10, delta = 0\n",
    "N = 10\n",
    "delta = 0\n",
    "w_b2 = w_opt_linear_eq(N,delta,f_n,sigma_v)\n",
    "Jmin_b2 = Jmin_linear_eq(N,delta,f_n,sigma_v)\n",
    "\n",
    "print('=======================================')\n",
    "print('Outputs for Q b2')\n",
    "print('SNR=10dB')\n",
    "print('N = 10, delta = 0')\n",
    "print('\\n')\n",
    "print('w_opt is')\n",
    "print(w_b2)\n",
    "print('Jmin is')\n",
    "print(Jmin_b2)\n",
    "\n",
    "# Question b3, N = 10, delta = 5\n",
    "N = 10\n",
    "delta = 5\n",
    "w_b3 = w_opt_linear_eq(N,delta,f_n,sigma_v)\n",
    "Jmin_b3 = Jmin_linear_eq(N,delta,f_n,sigma_v)\n",
    "\n",
    "print('=======================================')\n",
    "print('Outputs for Q b3')\n",
    "print('SNR=10dB')\n",
    "print('N = 10, delta = 5')\n",
    "print('\\n')\n",
    "print('w_opt is')\n",
    "print(w_b3)\n",
    "print('Jmin is')\n",
    "print(Jmin_b3)"
   ]
  },
  {
   "cell_type": "code",
   "execution_count": 20,
   "metadata": {},
   "outputs": [
    {
     "name": "stdout",
     "output_type": "stream",
     "text": [
      "SNR=10dB\n",
      "Optimal value of N is\n",
      "30\n",
      "Optimal value of delta is\n",
      "15\n",
      "Jmin corresponding to these is\n",
      "0.331456\n"
     ]
    }
   ],
   "source": [
    "# Question b4: Best choice of N and Delta\n",
    "\n",
    "N_max = 200\n",
    "delta_max = 200\n",
    "sigma_v = np.sqrt(0.1)\n",
    "\n",
    "w_opt_le, N_opt, delta_opt, Jm = best_choice_linear_eq(N_max,delta_max,f_n,sigma_v)\n",
    "\n",
    "print('SNR=10dB')\n",
    "print('Optimal value of N is')\n",
    "print(N_opt)\n",
    "print('Optimal value of delta is')\n",
    "print(delta_opt)\n",
    "print('Jmin corresponding to these is')\n",
    "print(Jm)"
   ]
  },
  {
   "cell_type": "code",
   "execution_count": 21,
   "metadata": {},
   "outputs": [],
   "source": [
    "snr = np.arange(0,18,2)\n",
    "stdev = 10**(-0.5*(snr/10))\n",
    "n_iter = 10**5\n",
    "I_n = random_4pam_sequence(n_iter)\n",
    "\n",
    "sym_err_le = np.zeros(len(snr))\n",
    "jmin_le = np.zeros(len(snr))\n",
    "\n",
    "for i in range(len(snr)):\n",
    "    w_o = w_opt_linear_eq(N_opt,delta_opt,f_n,stdev[i])\n",
    "    sym_err_le[i] = le_symbol_err(I_n,f_n,w_o,delta_opt,n_iter,stdev[i])\n",
    "    jmin_le[i] = Jmin_linear_eq(N_opt,delta_opt,f_n,stdev[i])"
   ]
  },
  {
   "cell_type": "markdown",
   "metadata": {},
   "source": [
    "# Estimation using Decision Feedback Equalisation"
   ]
  },
  {
   "cell_type": "markdown",
   "metadata": {},
   "source": [
    "In this section we calculate the optimal feed forward and feedback FIR filters to implement decision feedback equaliser. The equaliser coefficients are given by\n",
    "\n",
    "$[w_{ff}^T, w_{fb}^T] = w_{opt}^T; w_{ff}= N_1 \\times 1, w_{fb} = N_2 \\times 2$\n",
    "\n",
    "$w_{opt} = R^{-1}p$\n",
    "\n",
    "$R = E[rr^T], r = [r[k], r[k-1],...r[k-N_1+1],I[k-\\Delta-1]....I[k-\\Delta-N_2]]$\n",
    "\n",
    "The matrix R can be written in a block diagonal form:\n",
    "\n",
    "$R = \\begin{pmatrix}R_l&&S\\\\S^T&&I\\end{pmatrix}$\n",
    "\n",
    "Here $R_l$ is equal to the R calculated for linear equaliser, but with size $N_1$. $S_{:,i} = p_i, p_i = -E[I(k-\\Delta)r_l]$. \n",
    "\n",
    "$p = [p_l,0,0,0,0]$. Again $p_l$ refers to that calculated for Linear equaliser.\n",
    "\n",
    "$J_{min} = \\sigma_I^2-w_{opt}^Tp$\n",
    "\n",
    "To find optimal values of $N_1 and N_2$, we are asked to keep their sum constant(10). Again here too, we search over a range of values and find the argmin."
   ]
  },
  {
   "cell_type": "code",
   "execution_count": 22,
   "metadata": {},
   "outputs": [],
   "source": [
    "def p_dfe(N1, N2, delta, f_n):\n",
    "    p = np.zeros(N1+N2)\n",
    "    p[0:N1] = p_linear_eq(N1,delta,f_n)\n",
    "    return p"
   ]
  },
  {
   "cell_type": "code",
   "execution_count": 23,
   "metadata": {},
   "outputs": [],
   "source": [
    "def R_dfe(N1, N2, delta, f_n, sigma_v):\n",
    "    \n",
    "    R = np.zeros((N1+N2,N1+N2))\n",
    "    R[0:N1,0:N1] = R_linear_eq(N1,f_n,sigma_v)\n",
    "    R[N1:,N1:] = np.eye(N2)\n",
    "    \n",
    "    for i in range(1,N2+1):\n",
    "        R[0:N1,N1+i-1] = -1*p_linear_eq(N1,delta+i,f_n)\n",
    "        R[N1+i-1,0:N1] = R[0:N1,N1+i-1].copy()    \n",
    "    return R"
   ]
  },
  {
   "cell_type": "code",
   "execution_count": 24,
   "metadata": {},
   "outputs": [],
   "source": [
    "def w_opt_dfe(N1,N2,delta,f_n,sigma_v):\n",
    "    R = R_dfe(N1, N2, delta, f_n, sigma_v)\n",
    "    p = p_dfe(N1, N2, delta, f_n)\n",
    "    w_opt = np.linalg.inv(R)@p\n",
    "    return w_opt"
   ]
  },
  {
   "cell_type": "code",
   "execution_count": 25,
   "metadata": {},
   "outputs": [],
   "source": [
    "def Jmin_dfe(N1,N2,delta,f_n,sigma_v):\n",
    "    w = w_opt_dfe(N1,N2,delta,f_n,sigma_v)\n",
    "    p = p_dfe(N1, N2, delta, f_n)\n",
    "    Jmin = 1-w@p\n",
    "    return Jmin"
   ]
  },
  {
   "cell_type": "code",
   "execution_count": 26,
   "metadata": {},
   "outputs": [],
   "source": [
    "def best_choice_dfe(N1plusN2,delta_max,f_n,sigma_v):\n",
    "    \n",
    "    J = []\n",
    "    N1 = np.arange(1,N1plusN2+1)\n",
    "    delta = np.arange(1,delta_max+1)\n",
    "    \n",
    "    for i in range(len(N1)):\n",
    "        for j in range(len(delta)):\n",
    "            Jmin = Jmin_dfe(N1[i],N1plusN2-N1[i],delta[j],f_n,sigma_v)\n",
    "            J.append([N1[i],N1plusN2-N1[i],delta[j],Jmin])\n",
    "    J = np.array(J)\n",
    "    ii = np.argmin(J[:,-1])\n",
    "    N1_opt = int(J[ii,0])\n",
    "    N2_opt = int(J[ii,1])    \n",
    "    delta_opt = int(J[ii,2])\n",
    "    Jmin = J[ii,-1]\n",
    "    w_opt = w_opt_dfe(N1_opt,N2_opt,delta_opt,f_n,sigma_v)\n",
    "    return w_opt, N1_opt, N2_opt, delta_opt, Jmin"
   ]
  },
  {
   "cell_type": "code",
   "execution_count": 27,
   "metadata": {},
   "outputs": [
    {
     "name": "stdout",
     "output_type": "stream",
     "text": [
      "=======================================\n",
      "Outputs for Q c1\n",
      "SNR=10dB\n",
      "N1 = 6, N2 = 4, delta = 0\n",
      "\n",
      "\n",
      "w_opt is\n",
      "[ 1.34687006e+00 -6.23675616e-16  2.11879467e-16  1.74631017e-16\n",
      "  9.67045369e-18 -3.60659639e-17 -9.52380952e-01  5.71428571e-01\n",
      " -2.88892190e-16 -6.81066652e-17]\n",
      "Jmin is\n",
      "0.23809523809523814\n",
      "=======================================\n",
      "Outputs for Q c2\n",
      "SNR=10dB\n",
      "N1 = 6, N2 = 4, delta = 3\n",
      "\n",
      "\n",
      "w_opt is\n",
      "[ 6.07156583e-02 -2.99095927e-02 -3.65516413e-01  1.01585039e+00\n",
      "  1.30401470e-16  1.73560879e-16 -8.73390177e-01  4.30988818e-01\n",
      " -5.06354818e-17  3.88597884e-17]\n",
      "Jmin is\n",
      "0.17957867415362594\n"
     ]
    }
   ],
   "source": [
    "#SNR = 10dB. Therefore, sigma_v = np.sqrt(0.1)\n",
    "sigma_v = np.sqrt(0.1)\n",
    "\n",
    "# Question c1\n",
    "N1 = 6\n",
    "N2 = 4\n",
    "delta = 0\n",
    "w_c1 = w_opt_dfe(N1,N2,delta,f_n,sigma_v)\n",
    "Jmin_c1 = Jmin_dfe(N1,N2,delta,f_n,sigma_v)\n",
    "\n",
    "print('=======================================')\n",
    "print('Outputs for Q c1')\n",
    "print('SNR=10dB')\n",
    "print('N1 = 6, N2 = 4, delta = 0')\n",
    "print('\\n')\n",
    "print('w_opt is')\n",
    "print(w_c1)\n",
    "print('Jmin is')\n",
    "print(Jmin_c1)\n",
    "\n",
    "# Question c1\n",
    "N1 = 6\n",
    "N2 = 4\n",
    "delta = 3\n",
    "w_c2 = w_opt_dfe(N1,N2,delta,f_n,sigma_v)\n",
    "Jmin_c2 = Jmin_dfe(N1,N2,delta,f_n,sigma_v)\n",
    "\n",
    "print('=======================================')\n",
    "print('Outputs for Q c2')\n",
    "print('SNR=10dB')\n",
    "print('N1 = 6, N2 = 4, delta = 3')\n",
    "print('\\n')\n",
    "print('w_opt is')\n",
    "print(w_c2)\n",
    "print('Jmin is')\n",
    "print(Jmin_c2)"
   ]
  },
  {
   "cell_type": "code",
   "execution_count": 28,
   "metadata": {},
   "outputs": [
    {
     "name": "stdout",
     "output_type": "stream",
     "text": [
      "SNR=10dB\n",
      "Optimal value of N1 is\n",
      "8\n",
      "Optimal value of N2 is\n",
      "2\n",
      "Optimal value of delta is\n",
      "7\n",
      "Jmin corresponding to these is\n",
      "0.17372072544483863\n"
     ]
    }
   ],
   "source": [
    "N1plusN2 = 10\n",
    "delta_max = 15\n",
    "sigma_v = np.sqrt(0.1)\n",
    "\n",
    "w_opt, N1_opt, N2_opt, delta_opt_dfe, Jm = best_choice_dfe(N1plusN2,delta_max,f_n,sigma_v)\n",
    "\n",
    "print('SNR=10dB')\n",
    "print('Optimal value of N1 is')\n",
    "print(N1_opt)\n",
    "print('Optimal value of N2 is')\n",
    "print(N2_opt)\n",
    "print('Optimal value of delta is')\n",
    "print(delta_opt_dfe)\n",
    "print('Jmin corresponding to these is')\n",
    "print(Jm)"
   ]
  },
  {
   "cell_type": "code",
   "execution_count": 29,
   "metadata": {},
   "outputs": [],
   "source": [
    "def dfe_symbol_err(I_n,f_n,w_opt,N1,N2,delta,n_iter,sigma_v):\n",
    "    r_n = np.convolve(I_n,f_n)+sigma_v*np.random.randn(len(I_n)+len(f_n)-1)\n",
    "    \n",
    "    wff = w_opt[0:N1]\n",
    "    wfb = w_opt[N1:]\n",
    "    \n",
    "    z1_n = np.convolve(r_n,wff)\n",
    "    \n",
    "    I_hat_n_pre = np.zeros(N2+n_iter)\n",
    "    \n",
    "    for i in range(n_iter):\n",
    "        z2_i = (np.flip(I_hat_n_pre[i:N2+i]))@wfb\n",
    "        I_hat_n_pre[N2+i] = z1_n[delta+i]-z2_i\n",
    "        I_hat_n_pre[N2+i] = np.round((np.sqrt(5)/2)*I_hat_n_pre[N2+i]+1.5)\n",
    "        I_hat_n_pre[N2+i] = (2/np.sqrt(5))*(np.clip(I_hat_n_pre[N2+i],0,3)-1.5)\n",
    "        \n",
    "    I_hat_n = I_hat_n_pre[N2:]\n",
    "    sym_err = np.mean(np.not_equal(I_hat_n,I_n))\n",
    "    return sym_err"
   ]
  },
  {
   "cell_type": "code",
   "execution_count": 30,
   "metadata": {},
   "outputs": [],
   "source": [
    "snr = np.arange(0,18,2)\n",
    "stdev = 10**(-0.5*(snr/10))\n",
    "n_iter = 10**5\n",
    "I_n = random_4pam_sequence(n_iter)\n",
    "\n",
    "sym_err_dfe = np.zeros(len(snr))\n",
    "jmin_dfe = np.zeros(len(snr))\n",
    "\n",
    "for i in range(len(snr)):\n",
    "    w_o = w_opt_dfe(N1_opt,N2_opt,delta_opt_dfe,f_n,stdev[i])\n",
    "    sym_err_dfe[i] = dfe_symbol_err(I_n,f_n,w_o,N1_opt,N2_opt,delta_opt_dfe,n_iter,stdev[i])"
   ]
  },
  {
   "cell_type": "code",
   "execution_count": 39,
   "metadata": {
    "scrolled": false
   },
   "outputs": [
    {
     "data": {
      "image/png": "[encoded data removed]",
      "text/plain": [
       "<Figure size 432x288 with 1 Axes>"
      ]
     },
     "metadata": {
      "needs_background": "light"
     },
     "output_type": "display_data"
    }
   ],
   "source": [
    "# Figure 2\n",
    "plt.plot(snr, np.log10(ser_matrix_viterbi[-1]),label='Viterbi with '+r'$\\delta=30$')\n",
    "plt.plot(snr, np.log10(sym_err_dfe),label='DFE')\n",
    "plt.plot(snr, np.log10(sym_err_le),label='LE')\n",
    "plt.legend()\n",
    "plt.xlabel('SNR'+'\\n\\nFigure 2',size=10)\n",
    "plt.ylabel('log(SER)')\n",
    "plt.title('SER for three algorithms')\n",
    "plt.savefig('fig2.png')\n",
    "plt.show()"
   ]
  },
  {
   "cell_type": "markdown",
   "metadata": {},
   "source": [
    "# Bonus question"
   ]
  },
  {
   "cell_type": "markdown",
   "metadata": {},
   "source": [
    "Computing the variance of residual inters symbol interfernece terms.\n",
    "\n",
    "Channel coefficients are given by $f[n]$"
   ]
  },
  {
   "cell_type": "markdown",
   "metadata": {},
   "source": [
    "## Linear equaliser\n",
    "\n",
    "For linear equaliser, the input ouput relation is given by:\n",
    "\n",
    "$\\hat{I}[n-\\Delta] = I[n]*f[n]*w_{opt}[n]$\n",
    "\n",
    "Note that here we have excluded noise term, because we are only asked to calculate ISI variance\n",
    "\n",
    "Both $f[n],w_{opt}[n]$ are FIR.\n",
    "\n",
    "Since both of $f[n],w_{opt}[n]$ have finite L2 and L1 norm, one can apply associative property of convolution to get:\n",
    "\n",
    "$\\hat{I}[n-\\Delta] = I[n]*(f[n]*w_{opt}[n])$\n",
    "\n",
    "Let $g[n]= (f[n]*w_{opt}[n])$ be the effective channel, with length P\n",
    "\n",
    "Simplifying the above expression, we get:\n",
    "\n",
    "$\\hat{I}[n-\\Delta] = g[\\Delta]I[n-\\Delta]+\\sum_{k=0, k\\neq \\Delta}^{P-1} g[k]I[n-k]$\n",
    "\n",
    "The second term on RHS is ISI. Since $I[n]$ is zero mean, the expectation of the second term is 0 as well, making its variance simply expectation of sum of squares of $g[n],n\\neq\\Delta$, since I[n] has unit variance.\n",
    "\n",
    "We calculate this in the code cell below, for best choice 10-tap LE at 10dB SNR"
   ]
  },
  {
   "cell_type": "code",
   "execution_count": 32,
   "metadata": {},
   "outputs": [],
   "source": [
    "sigma_v = np.sqrt(0.1)\n",
    "delta_array = np.arange(0,10+len(f_n),1)\n",
    "N = 10\n",
    "J = []\n",
    "\n",
    "for j in range(len(delta_array)):\n",
    "    Jmin = Jmin_linear_eq(N,delta_array[j],f_n,sigma_v)\n",
    "    J.append([delta_array[j],Jmin])\n",
    "    \n",
    "J = np.array(J)\n",
    "J[:,-1] = np.round(J[:,-1],decimals=6)\n",
    "ii = np.argmin(J[:,-1])\n",
    "delta_opt_le_10 = int(J[ii,0])\n",
    "Jmin = J[ii,-1]\n",
    "w_opt_le_10 = w_opt_linear_eq(N,delta_opt_le_10,f_n,sigma_v)\n",
    "\n",
    "g = np.convolve(f_n,w_opt_le_10)\n",
    "\n",
    "isi_var_le = np.sum(g**2)-g[delta_opt_le_10]**2"
   ]
  },
  {
   "cell_type": "markdown",
   "metadata": {},
   "source": [
    "## Decision Feedback Equaliser\n",
    "\n",
    "$\\hat{I}[n-\\Delta] = I[n]*f[n]*w_{ff}[n]-\\hat{I}[n-\\Delta-1]*w_{fb}[n]$\n",
    "\n",
    "Again we are excluding the noise term because we are asked to caclulate ISI variance\n",
    "\n",
    "Simplifying,\n",
    "\n",
    "$\\hat{I}[n-\\Delta] = g[\\Delta]I[n-\\Delta]+\\sum_{k=0}^{\\Delta-1} g[k]I[n-k]+\\sum_{k=0}^{N_2-1}(g[k+1+\\Delta]-w_{fb}[k])I[n-\\Delta-1-k]+\\sum_{k=N2}^{P-1}g[k]I[n-k]$.\n",
    "\n",
    "Here $g[n]= (f[n]*w_{ff}[n])$\n",
    "\n",
    "This is derived assuming all previous decisions were correct\n",
    "\n",
    "Therefore, by similar justifications as above, ISI sum variance is given by the commands in following code write cell."
   ]
  },
  {
   "cell_type": "code",
   "execution_count": 33,
   "metadata": {
    "scrolled": true
   },
   "outputs": [],
   "source": [
    "w = w_opt\n",
    "N1 = N1_opt\n",
    "N2 = N2_opt\n",
    "delta = delta_opt_dfe\n",
    "\n",
    "wff = w[0:N1]\n",
    "wfb = w[N1:]\n",
    "\n",
    "g = np.convolve(wff,f_n)\n",
    "\n",
    "temp = g.copy()\n",
    "temp[delta+1:N2+delta+1] = g[delta+1:N2+delta+1]-wfb\n",
    "\n",
    "isi_var_dfe = np.sum(temp**2)-g[delta]**2"
   ]
  },
  {
   "cell_type": "code",
   "execution_count": 34,
   "metadata": {},
   "outputs": [
    {
     "name": "stdout",
     "output_type": "stream",
     "text": [
      "Sum variance of ISI terms  for Linear Equaliser is\n",
      "0.10599230999197023\n",
      "Sum variance of ISI terms  for Decision Feedback Equaliser is\n",
      "0.02776444708536796\n"
     ]
    }
   ],
   "source": [
    "# Comparison\n",
    "print('Sum variance of ISI terms  for Linear Equaliser is')\n",
    "print(isi_var_le)\n",
    "print('Sum variance of ISI terms  for Decision Feedback Equaliser is')\n",
    "print(isi_var_dfe)"
   ]
  },
  {
   "cell_type": "markdown",
   "metadata": {},
   "source": [
    "We get results as expected. DFE has lesser ISI than LE, because feedback serves to cancel ISI"
   ]
  },
  {
   "cell_type": "markdown",
   "metadata": {},
   "source": [
    "# Summary of all answers and plots"
   ]
  },
  {
   "attachments": {
    "fig1.png": {
     "image/png": "[encoded data removed]"
    },
    "fig2.png": {
     "image/png": "[encoded data removed]"
    }
   },
   "cell_type": "markdown",
   "metadata": {},
   "source": [
    "1. **Figure 1**\n",
    "\n",
    "![fig1.png](attachment:fig1.png)\n",
    "\n",
    "2. **Qb 1**\n",
    "\n",
    "SNR=10dB\n",
    "N = 3, delta = 0\n",
    "\n",
    "w_opt is\n",
    "\n",
    "[0.95869858 0.80157854 0.30092483]\n",
    "\n",
    "Jmin is\n",
    "0.4576781847283682\n",
    "\n",
    "3. **Qb 2**\n",
    "\n",
    "N = 10, delta = 0\n",
    "\n",
    "w_opt is\n",
    "\n",
    "[ 0.98162681  0.84173676  0.31296526 -0.08206659 -0.20034628 -0.13712618\n",
    " -0.03402374  0.02698237  0.03503563  0.01640834]\n",
    "\n",
    "Jmin is\n",
    "\n",
    "0.4447080202880155\n",
    "\n",
    "4. **Qb 3**\n",
    "\n",
    "SNR=10dB\n",
    "N = 10, delta = 5\n",
    "\n",
    "w_opt is\n",
    "\n",
    "[ 0.05175672  0.18258482  0.29532074  0.17546218 -0.36100637  0.58939739\n",
    "  0.64385394  0.30512781  0.01904098 -0.05445636]\n",
    "\n",
    "Jmin is\n",
    "\n",
    "0.33687413740034433\n",
    "\n",
    "5. **Qb 4**\n",
    "\n",
    "SNR=10dB\n",
    "\n",
    "Optimal value of N is 30\n",
    "\n",
    "Optimal value of delta is 15\n",
    "\n",
    "Jmin corresponding to these is 0.331456\n",
    "\n",
    "6. **Qc 1**\n",
    "\n",
    "SNR=10dB\n",
    "N1 = 6, N2 = 4, delta = 0\n",
    "\n",
    "w_opt is\n",
    "\n",
    "[ 1.34687006e+00 -6.23675616e-16  2.11879467e-16  1.74631017e-16\n",
    "  9.67045369e-18 -3.60659639e-17 -9.52380952e-01  5.71428571e-01\n",
    " -2.88892190e-16 -6.81066652e-17]\n",
    "\n",
    "Jmin is\n",
    "\n",
    "0.23809523809523814\n",
    "\n",
    "7. **Qc 2**\n",
    "\n",
    "SNR=10dB\n",
    "N1 = 6, N2 = 4, delta = 3\n",
    "\n",
    "w_opt is\n",
    "\n",
    "[ 6.07156583e-02 -2.99095927e-02 -3.65516413e-01  1.01585039e+00\n",
    "  1.30401470e-16  1.73560879e-16 -8.73390177e-01  4.30988818e-01\n",
    " -5.06354818e-17  3.88597884e-17]\n",
    "\n",
    "Jmin is\n",
    "\n",
    "0.17957867415362594\n",
    "\n",
    "8. **Qc 3**\n",
    "\n",
    "SNR=10dB\n",
    "\n",
    "Optimal value of N1 is 8\n",
    "\n",
    "Optimal value of N2 is 2\n",
    "\n",
    "Optimal value of delta is 7\n",
    "\n",
    "Jmin corresponding to these is 0.17372072544483863\n",
    "\n",
    "9. **Figure 2**\n",
    "![fig2.png](attachment:fig2.png)\n",
    "\n",
    "10. **Bonus question**:\n",
    "\n",
    "Sum variance of ISI terms  for Linear Equaliser is\n",
    "\n",
    "0.10599230999197023\n",
    "\n",
    "Sum variance of ISI terms  for Decision Feedback Equaliser is\n",
    "\n",
    "0.02776444708536796"
   ]
  },
  {
   "cell_type": "markdown",
   "metadata": {},
   "source": [
    "# Observations and Conclusions for all the three algorithms and Bonus question"
   ]
  },
  {
   "attachments": {
    "fig3.png": {
     "image/png": "[encoded data removed]"
    }
   },
   "cell_type": "markdown",
   "metadata": {},
   "source": [
    "1. Question 1: Viterbi algorithm: We observe from figure 1, that the SER for decoding delay of 3 decreases very slowly. This is because the channel length itself is 3, and we are making a deicion too early, ie before the paths merge. For decoding delay of 6, the SER is bent downwards but is still greater than those for higher decoding delays. For decoding delays of 15 and 30, the curves almost coincide, becuase at decoding delay of 15 is 5 times channel length, and this indicates the sequences have merged and we are fairly close to what we would have got had we done the decoding at the end.\n",
    "\n",
    "2. While finding optimal N and $\\delta$ for linear equaliser, I observed that as N increases, cost decreases. However after a point(N=30), cost decreases by less than 1 parts per million, and so I took N=30 to be the channel equaliser length, because not only is computational complexity reduced by this choice, but we have to wait for lesser time to make the decision on the symbol. The lowest value of the cost was at N=82, but this was within 1e-7 of that of N=30, so we have not lost that much efficiency by this choice. N was searched over 1 to 200.\n",
    "\n",
    "3. For the DFE, the optimal length for the feedback equaliser was obtained to be equal to 2. This is intuitive, because the channel length itself was 3, hence 2 terms for ISI.\n",
    "\n",
    "4. From Figure 2 we observe that Viterbi algorithm outperforms DFE and LE by a large margin. For low SNR DFE and LE SER are roughly equal from figure 2. As an extra setp, I have plotted the comparisons for high SNR(beyond 16dB) below, and you can clearly see DFE winning out.\n",
    "\n",
    "![fig3.png](attachment:fig3.png)\n",
    "\n",
    "5. A possible reason for similar performances of LE and DFE at low SNR is: Since error propagates in DFE, at high SNR, the errors are also because of added noise not just ISI. DFE guards us(fairly well) against ISI, but it cannot help at high noise where error propagates.\n",
    "\n",
    "6. For the bonus question, we calculated theoretical expressions for ISI sum variance for LE and DFE, and the observed results show DFE is a clear winner(very low ISI of around 2 percent compared to around 20 percent for LE). This is in line with our intuition that feedback helps mitigate ISI by subtracting contributions from pervious terms"
   ]
  }
 ],
 "metadata": {
  "kernelspec": {
   "display_name": "Python 3",
   "language": "python",
   "name": "python3"
  },
  "language_info": {
   "codemirror_mode": {
    "name": "ipython",
    "version": 3
   },
   "file_extension": ".py",
   "mimetype": "text/x-python",
   "name": "python",
   "nbconvert_exporter": "python",
   "pygments_lexer": "ipython3",
   "version": "3.7.6"
  }
 },
 "nbformat": 4,
 "nbformat_minor": 4
}
